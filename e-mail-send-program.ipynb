{
 "cells": [
  {
   "cell_type": "markdown",
   "metadata": {},
   "source": [
    "# Email 보내기\n",
    "settings > Forwarding and POP/IMAP > IMAP Access : IMAP 사용"
   ]
  },
  {
   "cell_type": "code",
   "execution_count": 4,
   "metadata": {},
   "outputs": [],
   "source": [
    "import smtplib"
   ]
  },
  {
   "cell_type": "code",
   "execution_count": 15,
   "metadata": {},
   "outputs": [],
   "source": [
    "fromAddr = 'abc@gmail.com'\n",
    "toAddr = 'def@naver.com'\n",
    "eMailpw = '1234' # password of fromAddr\n",
    "\n",
    "# English\n",
    "contents_en = 'Hello!'\n",
    "\n",
    "# Korean\n",
    "contents_kor = '안녕하세요^^'\n",
    "contents = contents_kor.encode('euc-kr')"
   ]
  },
  {
   "cell_type": "code",
   "execution_count": 17,
   "metadata": {},
   "outputs": [
    {
     "data": {
      "text/plain": [
       "(220, b'2.0.0 Ready to start TLS')"
      ]
     },
     "execution_count": 17,
     "metadata": {},
     "output_type": "execute_result"
    }
   ],
   "source": [
    "customSMTP = smtplib.SMTP('smtp.gmail.com', 587)\n",
    "customSMTP.starttls()"
   ]
  },
  {
   "cell_type": "code",
   "execution_count": 18,
   "metadata": {},
   "outputs": [
    {
     "data": {
      "text/plain": [
       "(221, b'2.0.0 closing connection v4sm11731937pff.77 - gsmtp')"
      ]
     },
     "execution_count": 18,
     "metadata": {},
     "output_type": "execute_result"
    }
   ],
   "source": [
    "customSMTP.login(fromAddr, eMailpw)\n",
    "customSMTP.sendmail(from_addr = fromAddr, to_addrs = toAddr, msg = contents) # korean\n",
    "# customSMTP.sendmail(from_addr = fromAddr, to_addrs = toAddr, msg = contents_en) # english\n",
    "customSMTP.quit() "
   ]
  },
  {
   "cell_type": "code",
   "execution_count": null,
   "metadata": {},
   "outputs": [],
   "source": []
  }
 ],
 "metadata": {
  "kernelspec": {
   "display_name": "Python 3",
   "language": "python",
   "name": "python3"
  },
  "language_info": {
   "codemirror_mode": {
    "name": "ipython",
    "version": 3
   },
   "file_extension": ".py",
   "mimetype": "text/x-python",
   "name": "python",
   "nbconvert_exporter": "python",
   "pygments_lexer": "ipython3",
   "version": "3.6.5"
  }
 },
 "nbformat": 4,
 "nbformat_minor": 2
}
