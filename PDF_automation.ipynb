{
 "cells": [
  {
   "cell_type": "code",
   "execution_count": 1,
   "metadata": {},
   "outputs": [],
   "source": [
    "from pdfminer.pdfinterp import PDFResourceManager, PDFPageInterpreter\n",
    "from pdfminer.converter import TextConverter\n",
    "from pdfminer.layout import LAParams\n",
    "from pdfminer.pdfpage import PDFPage\n",
    "from io import StringIO"
   ]
  },
  {
   "cell_type": "code",
   "execution_count": 2,
   "metadata": {},
   "outputs": [],
   "source": [
    "def pdf2txt(pdf_file):\n",
    "    rsrcmgr = PDFResourceManager()\n",
    "    \n",
    "    retstr = StringIO()\n",
    "    codec = 'utf-8'\n",
    "    laparams = LAParams()\n",
    "    device = TextConverter(rsrcmgr, retstr, codec=codec, laparams=laparams)\n",
    "    fp = open(pdf_file, 'rb')\n",
    "    interpreter = PDFPageInterpreter(rsrcmgr, device)\n",
    "    password = \"\"\n",
    "    maxpages = 0\n",
    "    caching = True\n",
    "    pagenos = set()\n",
    "    \n",
    "    for page in PDFPage.get_pages(fp, pagenos, maxpages=maxpages, password=password,\n",
    "                                 caching=caching, check_extractable=True):\n",
    "        interpreter.process_page(page)\n",
    "    \n",
    "    text = retstr.getvalue()\n",
    "    \n",
    "    fp.close()\n",
    "    device.close()\n",
    "    retstr.close()\n",
    "    return text"
   ]
  },
  {
   "cell_type": "code",
   "execution_count": 4,
   "metadata": {},
   "outputs": [
    {
     "data": {
      "text/plain": [
       "['bigstock-Group-Of-Animals-34563776.jpg',\n",
       " 'nums_keywords.xlsx',\n",
       " 'Relevant keywords 20190212 2313.xlsx',\n",
       " 'resume template.docx',\n",
       " 'resume template.hwp',\n",
       " 'resume template.pdf',\n",
       " 't1.daumcdn.png',\n",
       " 'tiger.jpg',\n",
       " 'wine_dataset.csv',\n",
       " '「인공지능 업무자동화교육」 참가신청서.docx',\n",
       " '「인공지능 업무자동화교육」 참가신청서.hwp',\n",
       " '「인공지능 업무자동화교육」 참가신청서.pdf']"
      ]
     },
     "execution_count": 4,
     "metadata": {},
     "output_type": "execute_result"
    }
   ],
   "source": [
    "import os\n",
    "os.listdir('sample')"
   ]
  },
  {
   "cell_type": "code",
   "execution_count": 6,
   "metadata": {},
   "outputs": [],
   "source": [
    "pdf_path = 'sample/「인공지능 업무자동화교육」 참가신청서.pdf'"
   ]
  },
  {
   "cell_type": "code",
   "execution_count": 8,
   "metadata": {},
   "outputs": [
    {
     "data": {
      "text/plain": [
       "'[서식. 참가신청서]  \\n\\n교육  참가신청서 \\n\\n교  육  명 \\n\\n교육일시 \\n\\n인공지능을  활용한  업무자동화  교육 \\n\\n2019년  2월  15일(금) ~ 17일(일), 2박  3일 \\n\\n성        명 \\n\\n이준호 \\n\\n소        속 \\n\\nJ.AI Labs \\n\\n참가자 \\n\\n연  락  처 \\n\\n010-9507-2110 \\n\\nE-mail \\n\\nJune.datalabs@gmail.com   \\n\\n정보 \\n\\n주        소 \\n\\n제주시  인다15길   \\n\\n연  령  대 \\n\\n□ 10대              □ 20대            □ 30대            □ 40대이상 \\n\\n신청내용 \\n\\n관심분야 \\n\\n(중복선택가능) \\n\\n지원동기 \\n\\n(자유롭게  서술) \\n\\n기술역량 \\n\\n및  경험 \\n\\n(자유롭게  서술) \\n\\n□ HTML&CSS □ Javascript □ Python □ 서비스기획·런칭 □ 기타 (       ) \\n\\n평소에  파이썬에  관심이  많았고,  업무자동화를  저의  업무에  적용하고  싶은 \\n\\n마음이  컸습니다.   \\n\\n이번  기회에  많은  것을  얻어갈  수  있으면  좋겠습니다.   \\n\\n파이썬은  1년  공부해봤고,  개발  쪽으로는  5년  이상  했습니다.   \\n\\n평소  마케팅을  해왔습니다.   \\n\\n상기와 같이 참가를 신청합니다. \\n\\n \\n\\n \\n\\n \\n\\n \\n\\n \\n\\n2019년   1월   일 \\n\\n \\n\\n신 청 자 : \\n\\n이준호 \\n\\n(서명 또는 날인)  \\n\\n \\n\\n\\x0c'"
      ]
     },
     "execution_count": 8,
     "metadata": {},
     "output_type": "execute_result"
    }
   ],
   "source": [
    "text = pdf2txt(pdf_path)\n",
    "text"
   ]
  },
  {
   "cell_type": "code",
   "execution_count": 14,
   "metadata": {},
   "outputs": [
    {
     "data": {
      "text/plain": [
       "['[서식. 참가신청서]  ',\n",
       " '교육  참가신청서 ',\n",
       " '교  육  명 ',\n",
       " '교육일시 ',\n",
       " '인공지능을  활용한  업무자동화  교육 ',\n",
       " '2019년  2월  15일(금) ~ 17일(일), 2박  3일 ',\n",
       " '성        명 ',\n",
       " '이준호 ',\n",
       " '소        속 ',\n",
       " 'J.AI Labs ',\n",
       " '참가자 ',\n",
       " '연  락  처 ',\n",
       " '010-9507-2110 ',\n",
       " 'E-mail ',\n",
       " 'June.datalabs@gmail.com   ',\n",
       " '정보 ',\n",
       " '주        소 ',\n",
       " '제주시  인다15길   ',\n",
       " '연  령  대 ',\n",
       " '□ 10대              □ 20대            □ 30대            □ 40대이상 ',\n",
       " '신청내용 ',\n",
       " '관심분야 ',\n",
       " '(중복선택가능) ',\n",
       " '지원동기 ',\n",
       " '(자유롭게  서술) ',\n",
       " '기술역량 ',\n",
       " '및  경험 ',\n",
       " '(자유롭게  서술) ',\n",
       " '□ HTML&CSS □ Javascript □ Python □ 서비스기획·런칭 □ 기타 (       ) ',\n",
       " '평소에  파이썬에  관심이  많았고,  업무자동화를  저의  업무에  적용하고  싶은 ',\n",
       " '마음이  컸습니다.   ',\n",
       " '이번  기회에  많은  것을  얻어갈  수  있으면  좋겠습니다.   ',\n",
       " '파이썬은  1년  공부해봤고,  개발  쪽으로는  5년  이상  했습니다.   ',\n",
       " '평소  마케팅을  해왔습니다.   ',\n",
       " '상기와 같이 참가를 신청합니다. ',\n",
       " ' ',\n",
       " ' ',\n",
       " ' ',\n",
       " ' ',\n",
       " ' ',\n",
       " '2019년   1월   일 ',\n",
       " ' ',\n",
       " '신 청 자 : ',\n",
       " '이준호 ',\n",
       " '(서명 또는 날인)  ',\n",
       " ' ',\n",
       " '\\x0c']"
      ]
     },
     "execution_count": 14,
     "metadata": {},
     "output_type": "execute_result"
    }
   ],
   "source": [
    "text_list = text.split('\\n\\n')\n",
    "text_list[text_list.index('성        명 ')+1]\n",
    "text_list "
   ]
  },
  {
   "cell_type": "code",
   "execution_count": 13,
   "metadata": {},
   "outputs": [
    {
     "data": {
      "text/html": [
       "<div>\n",
       "<style scoped>\n",
       "    .dataframe tbody tr th:only-of-type {\n",
       "        vertical-align: middle;\n",
       "    }\n",
       "\n",
       "    .dataframe tbody tr th {\n",
       "        vertical-align: top;\n",
       "    }\n",
       "\n",
       "    .dataframe thead th {\n",
       "        text-align: right;\n",
       "    }\n",
       "</style>\n",
       "<table border=\"1\" class=\"dataframe\">\n",
       "  <thead>\n",
       "    <tr style=\"text-align: right;\">\n",
       "      <th></th>\n",
       "      <th>Name</th>\n",
       "      <th>Phone</th>\n",
       "      <th>Address</th>\n",
       "    </tr>\n",
       "  </thead>\n",
       "  <tbody>\n",
       "  </tbody>\n",
       "</table>\n",
       "</div>"
      ],
      "text/plain": [
       "Empty DataFrame\n",
       "Columns: [Name, Phone, Address]\n",
       "Index: []"
      ]
     },
     "execution_count": 13,
     "metadata": {},
     "output_type": "execute_result"
    }
   ],
   "source": [
    "import pandas as pd\n",
    "columns = ['Name', 'Phone', 'Address']\n",
    "df = pd.DataFrame(columns = columns)\n",
    "df"
   ]
  },
  {
   "cell_type": "code",
   "execution_count": 15,
   "metadata": {},
   "outputs": [
    {
     "data": {
      "text/plain": [
       "{'Name': '이준호 ', 'Phone': '010-9507-2110 ', 'Address': '제주시  인다15길   '}"
      ]
     },
     "execution_count": 15,
     "metadata": {},
     "output_type": "execute_result"
    }
   ],
   "source": [
    "personal_data = {}\n",
    "# get target_list\n",
    "target_list = ['성        명 ', '연  락  처 ', '주        소 ']\n",
    "for n, target in enumerate(target_list):\n",
    "    personal_data[columns[n]] = text_list[text_list.index(target)+1]\n",
    "personal_data"
   ]
  },
  {
   "cell_type": "code",
   "execution_count": 20,
   "metadata": {},
   "outputs": [
    {
     "data": {
      "text/html": [
       "<div>\n",
       "<style scoped>\n",
       "    .dataframe tbody tr th:only-of-type {\n",
       "        vertical-align: middle;\n",
       "    }\n",
       "\n",
       "    .dataframe tbody tr th {\n",
       "        vertical-align: top;\n",
       "    }\n",
       "\n",
       "    .dataframe thead th {\n",
       "        text-align: right;\n",
       "    }\n",
       "</style>\n",
       "<table border=\"1\" class=\"dataframe\">\n",
       "  <thead>\n",
       "    <tr style=\"text-align: right;\">\n",
       "      <th></th>\n",
       "      <th>Name</th>\n",
       "      <th>Phone</th>\n",
       "      <th>Address</th>\n",
       "    </tr>\n",
       "  </thead>\n",
       "  <tbody>\n",
       "    <tr>\n",
       "      <th>1</th>\n",
       "      <td>이준호</td>\n",
       "      <td>010-9507-2110</td>\n",
       "      <td>제주시  인다15길</td>\n",
       "    </tr>\n",
       "  </tbody>\n",
       "</table>\n",
       "</div>"
      ],
      "text/plain": [
       "   Name           Phone        Address\n",
       "1  이준호   010-9507-2110   제주시  인다15길   "
      ]
     },
     "execution_count": 20,
     "metadata": {},
     "output_type": "execute_result"
    }
   ],
   "source": [
    "df = pd.DataFrame(data = personal_data, index = [1], columns = columns)\n",
    "df"
   ]
  },
  {
   "cell_type": "code",
   "execution_count": null,
   "metadata": {},
   "outputs": [],
   "source": []
  }
 ],
 "metadata": {
  "kernelspec": {
   "display_name": "Python 3",
   "language": "python",
   "name": "python3"
  },
  "language_info": {
   "codemirror_mode": {
    "name": "ipython",
    "version": 3
   },
   "file_extension": ".py",
   "mimetype": "text/x-python",
   "name": "python",
   "nbconvert_exporter": "python",
   "pygments_lexer": "ipython3",
   "version": "3.6.5"
  }
 },
 "nbformat": 4,
 "nbformat_minor": 2
}
