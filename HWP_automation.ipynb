{
 "cells": [
  {
   "cell_type": "markdown",
   "metadata": {},
   "source": [
    "# HWP 파일 열기\n",
    "pip install ole-py\n",
    "ole-py 는 한글 파일을 다룰 수 있는 파이썬 무료 라이브러리이다."
   ]
  },
  {
   "cell_type": "code",
   "execution_count": 2,
   "metadata": {},
   "outputs": [],
   "source": [
    "from ole import OleFile\n",
    "import pandas as pd\n",
    "import os"
   ]
  },
  {
   "cell_type": "code",
   "execution_count": 3,
   "metadata": {},
   "outputs": [
    {
     "data": {
      "text/plain": [
       "['bigstock-Group-Of-Animals-34563776.jpg',\n",
       " 'nums_keywords.xlsx',\n",
       " 'Relevant keywords 20190212 2313.xlsx',\n",
       " 'resume template.docx',\n",
       " 'resume template.hwp',\n",
       " 'resume template.pdf',\n",
       " 't1.daumcdn.png',\n",
       " 'tiger.jpg',\n",
       " 'wine_dataset.csv',\n",
       " '「인공지능 업무자동화교육」 참가신청서.docx',\n",
       " '「인공지능 업무자동화교육」 참가신청서.hwp',\n",
       " '「인공지능 업무자동화교육」 참가신청서.pdf']"
      ]
     },
     "execution_count": 3,
     "metadata": {},
     "output_type": "execute_result"
    }
   ],
   "source": [
    "os.listdir('sample/')"
   ]
  },
  {
   "cell_type": "code",
   "execution_count": 4,
   "metadata": {},
   "outputs": [
    {
     "data": {
      "text/plain": [
       "<ole.OleFile at 0x1c2ef658dd8>"
      ]
     },
     "execution_count": 4,
     "metadata": {},
     "output_type": "execute_result"
    }
   ],
   "source": [
    "hwp_path = 'sample/「인공지능 업무자동화교육」 참가신청서.hwp'\n",
    "f = OleFile(hwp_path)\n",
    "f"
   ]
  },
  {
   "cell_type": "code",
   "execution_count": 6,
   "metadata": {},
   "outputs": [
    {
     "name": "stdout",
     "output_type": "stream",
     "text": [
      "[서식. 참가신청서] \r\n",
      "<교육 참가신청서>\r\n",
      "<교 육 명><인공지능을 활용한 업무자동화 교육>\r\n",
      "<교육일시><2019년 2월 15일(금) ~ 17일(일), 2박 3일>\r\n",
      "<참가자 정보><성    명><이준호><소    속><J.AI Labs><연 락 처><010.9507.2110><E-mail><June.datalabs@gmail.com><주    소><제주시 인다 15길><연 령 대><□ 10대       □ 20대      □ 30대      □ 40대이상>\r\n",
      "<신청내용><관심분야 (중복선택가능)><□ HTML&CSS  □ Javascript  □ Python  □ 서비스기획·런칭  □ 기타 (          )><지원동기 (자유롭게 서술)><평소에 파이썬에 관심이 많았습니다.  업무자동화를 저의 업무에 적용하고 싶었는데.  마침 좋은 기회가 있어서 지원하게 되었습니다.  이런 기회를 주셔서 감사합니다. ><기술역량  및 경험 (자유롭게 서술)><파이썬은 1년 했고, 다른 쪽 개발 경험은 없습니다.  파이썬을 배우고 싶습니다. >\r\n",
      "<상기와 같이 참가를 신청합니다.       2019년   1월   일 <신 청 자 :><이준호><(서명 또는 날인) >>\r\n",
      "\u0000\u0000\u0000\u0000\u0000\n"
     ]
    }
   ],
   "source": [
    "content = f.get_stream('PrvText').decode('utf-16le')\n",
    "print(content)"
   ]
  },
  {
   "cell_type": "code",
   "execution_count": 12,
   "metadata": {
    "scrolled": true
   },
   "outputs": [
    {
     "data": {
      "text/plain": [
       "['[서식. 참가신청서] \\r\\n<교육 참가신청서>\\r\\n<교 육 명',\n",
       " '인공지능을 활용한 업무자동화 교육>\\r\\n<교육일시',\n",
       " '2019년 2월 15일(금) ~ 17일(일), 2박 3일>\\r\\n<참가자 정보',\n",
       " '성    명',\n",
       " '이준호',\n",
       " '소    속',\n",
       " 'J.AI Labs',\n",
       " '연 락 처',\n",
       " '010.9507.2110',\n",
       " 'E-mail',\n",
       " 'June.datalabs@gmail.com',\n",
       " '주    소',\n",
       " '제주시 인다 15길',\n",
       " '연 령 대',\n",
       " '□ 10대       □ 20대      □ 30대      □ 40대이상>\\r\\n<신청내용',\n",
       " '관심분야 (중복선택가능)',\n",
       " '□ HTML&CSS  □ Javascript  □ Python  □ 서비스기획·런칭  □ 기타 (          )',\n",
       " '지원동기 (자유롭게 서술)',\n",
       " '평소에 파이썬에 관심이 많았습니다.  업무자동화를 저의 업무에 적용하고 싶었는데.  마침 좋은 기회가 있어서 지원하게 되었습니다.  이런 기회를 주셔서 감사합니다. ',\n",
       " '기술역량  및 경험 (자유롭게 서술)',\n",
       " '파이썬은 1년 했고, 다른 쪽 개발 경험은 없습니다.  파이썬을 배우고 싶습니다. >\\r\\n<상기와 같이 참가를 신청합니다.       2019년   1월   일 <신 청 자 :',\n",
       " '이준호',\n",
       " '(서명 또는 날인) >>\\r\\n\\x00\\x00\\x00\\x00\\x00']"
      ]
     },
     "execution_count": 12,
     "metadata": {},
     "output_type": "execute_result"
    }
   ],
   "source": [
    "word_list = content.split('><')\n",
    "word_list"
   ]
  },
  {
   "cell_type": "code",
   "execution_count": 10,
   "metadata": {},
   "outputs": [
    {
     "data": {
      "text/plain": [
       "3"
      ]
     },
     "execution_count": 10,
     "metadata": {},
     "output_type": "execute_result"
    }
   ],
   "source": [
    "word_list.index('성    명')"
   ]
  },
  {
   "cell_type": "code",
   "execution_count": 11,
   "metadata": {},
   "outputs": [
    {
     "data": {
      "text/plain": [
       "list"
      ]
     },
     "execution_count": 11,
     "metadata": {},
     "output_type": "execute_result"
    }
   ],
   "source": [
    "type(word_list)"
   ]
  },
  {
   "cell_type": "code",
   "execution_count": 13,
   "metadata": {},
   "outputs": [
    {
     "data": {
      "text/plain": [
       "'파이썬은 1년 했고, 다른 쪽 개발 경험은 없습니다.  파이썬을 배우고 싶습니다. >\\r\\n<상기와 같이 참가를 신청합니다.       2019년   1월   일 <신 청 자 :'"
      ]
     },
     "execution_count": 13,
     "metadata": {},
     "output_type": "execute_result"
    }
   ],
   "source": [
    "word_list[word_list.index('기술역량  및 경험 (자유롭게 서술)')+1]"
   ]
  },
  {
   "cell_type": "code",
   "execution_count": null,
   "metadata": {},
   "outputs": [],
   "source": []
  }
 ],
 "metadata": {
  "kernelspec": {
   "display_name": "Python 3",
   "language": "python",
   "name": "python3"
  },
  "language_info": {
   "codemirror_mode": {
    "name": "ipython",
    "version": 3
   },
   "file_extension": ".py",
   "mimetype": "text/x-python",
   "name": "python",
   "nbconvert_exporter": "python",
   "pygments_lexer": "ipython3",
   "version": "3.6.5"
  }
 },
 "nbformat": 4,
 "nbformat_minor": 2
}
