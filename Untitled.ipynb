{
 "cells": [
  {
   "cell_type": "code",
   "execution_count": 1,
   "metadata": {},
   "outputs": [],
   "source": [
    "import pandas as pd"
   ]
  },
  {
   "cell_type": "code",
   "execution_count": null,
   "metadata": {},
   "outputs": [],
   "source": [
    "import numpy as np"
   ]
  },
  {
   "cell_type": "markdown",
   "metadata": {},
   "source": [
    "# Series\n",
    "series 는 pandas의 1차원 데이터타입을 말합니다."
   ]
  },
  {
   "cell_type": "code",
   "execution_count": 4,
   "metadata": {},
   "outputs": [
    {
     "data": {
      "text/plain": [
       "0    1.0\n",
       "1    3.0\n",
       "2    5.0\n",
       "3    NaN\n",
       "4    7.0\n",
       "5    9.0\n",
       "dtype: float64"
      ]
     },
     "execution_count": 4,
     "metadata": {},
     "output_type": "execute_result"
    }
   ],
   "source": [
    "series = pd.Series([1, 3, 5, np.nan, 7, 9])\n",
    "series"
   ]
  },
  {
   "cell_type": "code",
   "execution_count": 6,
   "metadata": {},
   "outputs": [
    {
     "data": {
      "text/plain": [
       "0    1.0\n",
       "1    3.0\n",
       "dtype: float64"
      ]
     },
     "execution_count": 6,
     "metadata": {},
     "output_type": "execute_result"
    }
   ],
   "source": [
    "series[series<5]"
   ]
  },
  {
   "cell_type": "markdown",
   "metadata": {},
   "source": [
    "# DataFrame\n",
    "DataFrame 은 pandas 의 2차원 데이터타입을 말합니다."
   ]
  },
  {
   "cell_type": "code",
   "execution_count": 7,
   "metadata": {},
   "outputs": [
    {
     "data": {
      "text/plain": [
       "{'Name': 'Seoyoon',\n",
       " 'Age': 25,\n",
       " 'Height': 180.2,\n",
       " 'Weight': 60.8,\n",
       " 'Job': 'Student'}"
      ]
     },
     "execution_count": 7,
     "metadata": {},
     "output_type": "execute_result"
    }
   ],
   "source": [
    "data = {'Name' : 'Seoyoon',\n",
    "        'Age' : 25,\n",
    "        'Height' : 180.2,\n",
    "        'Weight' : 60.8,\n",
    "        'Job' : 'Student'}\n",
    "data"
   ]
  },
  {
   "cell_type": "code",
   "execution_count": 10,
   "metadata": {},
   "outputs": [],
   "source": [
    "columns = ['Name', 'Age', 'Height', 'Weight', 'Job']"
   ]
  },
  {
   "cell_type": "code",
   "execution_count": 13,
   "metadata": {},
   "outputs": [
    {
     "data": {
      "text/plain": [
       "[      Name  Age  Height  Weight      Job\n",
       " 0  Seoyoon   25   180.2    60.8  Student]"
      ]
     },
     "execution_count": 13,
     "metadata": {},
     "output_type": "execute_result"
    }
   ],
   "source": [
    "# index는 임의로 0으로 두었다.\n",
    "df = [pd.DataFrame(data = data, index = [0], columns = columns)]\n",
    "df"
   ]
  },
  {
   "cell_type": "code",
   "execution_count": 14,
   "metadata": {
    "scrolled": true
   },
   "outputs": [
    {
     "data": {
      "text/plain": [
       "{'Name': ['Seoyoon', 'Hyunmin'],\n",
       " 'Age': [25, 26],\n",
       " 'Height': [180.2, 168.7],\n",
       " 'Weight': [60.8, 54.3],\n",
       " 'Job': ['Student', 'Job seeker']}"
      ]
     },
     "execution_count": 14,
     "metadata": {},
     "output_type": "execute_result"
    }
   ],
   "source": [
    "multi_data = {'Name' : ['Seoyoon', 'Hyunmin'],\n",
    "        'Age' : [25, 26],\n",
    "        'Height' : [180.2, 168.7],\n",
    "        'Weight' : [60.8, 54.3],\n",
    "        'Job' : ['Student', 'Job seeker']}\n",
    "multi_data"
   ]
  },
  {
   "cell_type": "code",
   "execution_count": 19,
   "metadata": {},
   "outputs": [
    {
     "data": {
      "text/plain": [
       "[      Name  Age  Height  Weight         Job\n",
       " 0  Seoyoon   25   180.2    60.8     Student\n",
       " 1  Hyunmin   26   168.7    54.3  Job seeker]"
      ]
     },
     "execution_count": 19,
     "metadata": {},
     "output_type": "execute_result"
    }
   ],
   "source": [
    "# index는 임의로 0으로 두었다.\n",
    "multi_df = [pd.DataFrame(data = multi_data, index = range(0,2), columns = columns)]\n",
    "multi_df"
   ]
  },
  {
   "cell_type": "code",
   "execution_count": 20,
   "metadata": {},
   "outputs": [],
   "source": [
    "csv_path = 'wine_dataset.csv'"
   ]
  },
  {
   "cell_type": "code",
   "execution_count": 21,
   "metadata": {},
   "outputs": [],
   "source": [
    "import os "
   ]
  },
  {
   "cell_type": "code",
   "execution_count": 26,
   "metadata": {},
   "outputs": [
    {
     "data": {
      "text/plain": [
       "['bigstock-Group-Of-Animals-34563776.jpg',\n",
       " 'nums_keywords.xlsx',\n",
       " 'Relevant keywords 20190212 2313.xlsx',\n",
       " 'resume template.docx',\n",
       " 'resume template.hwp',\n",
       " 'resume template.pdf',\n",
       " 't1.daumcdn.png',\n",
       " 'tiger.jpg',\n",
       " 'wine_dataset.csv',\n",
       " '「인공지능 업무자동화교육」 참가신청서.docx',\n",
       " '「인공지능 업무자동화교육」 참가신청서.hwp',\n",
       " '「인공지능 업무자동화교육」 참가신청서.pdf']"
      ]
     },
     "execution_count": 26,
     "metadata": {},
     "output_type": "execute_result"
    }
   ],
   "source": [
    "os.listdir(\"sample\") # ls 명령어 (path) "
   ]
  },
  {
   "cell_type": "code",
   "execution_count": null,
   "metadata": {},
   "outputs": [],
   "source": []
  }
 ],
 "metadata": {
  "kernelspec": {
   "display_name": "Python 3",
   "language": "python",
   "name": "python3"
  },
  "language_info": {
   "codemirror_mode": {
    "name": "ipython",
    "version": 3
   },
   "file_extension": ".py",
   "mimetype": "text/x-python",
   "name": "python",
   "nbconvert_exporter": "python",
   "pygments_lexer": "ipython3",
   "version": "3.6.5"
  }
 },
 "nbformat": 4,
 "nbformat_minor": 2
}
